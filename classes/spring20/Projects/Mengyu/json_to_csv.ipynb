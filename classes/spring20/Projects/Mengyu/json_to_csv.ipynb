{
 "cells": [
  {
   "cell_type": "code",
   "execution_count": 2,
   "metadata": {},
   "outputs": [],
   "source": [
    "import json\n",
    "import time\n",
    "import pandas as pd\n",
    "import numpy as np\n",
    "import linecache\n",
    "from json import JSONDecodeError"
   ]
  },
  {
   "cell_type": "code",
   "execution_count": 3,
   "metadata": {},
   "outputs": [],
   "source": [
    "#specify the name!!!\n",
    "filename = 'res.txt'"
   ]
  },
  {
   "cell_type": "code",
   "execution_count": 4,
   "metadata": {},
   "outputs": [],
   "source": [
    "# every 5000 records stored in a csv file\n",
    "\n",
    "with open(filename,encoding='charmap') as f:\n",
    "    count = 0\n",
    "    for line in f:\n",
    "        try:\n",
    "            my_dict = json.loads(line)\n",
    "            this_frame = pd.DataFrame([my_dict], columns=my_dict.keys())\n",
    "            if(count==0):\n",
    "                my_frame = this_frame\n",
    "            else:\n",
    "                my_frame = pd.concat([my_frame,this_frame],ignore_index=True,sort=False)\n",
    "            count+=1\n",
    "        except JSONDecodeError as e:\n",
    "            logf.write(str(e)+'line number: '+str(count))\n",
    "            print(e)\n",
    "            continue\n",
    "    my_frame.to_csv(filename[:3]+'_'+str(count)+'.csv')"
   ]
  },
  {
   "cell_type": "code",
   "execution_count": null,
   "metadata": {},
   "outputs": [],
   "source": []
  },
  {
   "cell_type": "code",
   "execution_count": null,
   "metadata": {},
   "outputs": [],
   "source": []
  }
 ],
 "metadata": {
  "kernelspec": {
   "display_name": "Python 3",
   "language": "python",
   "name": "python3"
  },
  "language_info": {
   "codemirror_mode": {
    "name": "ipython",
    "version": 3
   },
   "file_extension": ".py",
   "mimetype": "text/x-python",
   "name": "python",
   "nbconvert_exporter": "python",
   "pygments_lexer": "ipython3",
   "version": "3.7.3"
  }
 },
 "nbformat": 4,
 "nbformat_minor": 2
}
