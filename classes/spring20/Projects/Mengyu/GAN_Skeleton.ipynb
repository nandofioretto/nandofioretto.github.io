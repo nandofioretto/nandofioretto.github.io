{
 "cells": [
  {
   "cell_type": "code",
   "execution_count": 1,
   "metadata": {},
   "outputs": [],
   "source": [
    "import torch\n",
    "import torch.nn as nn\n",
    "import numpy as np\n",
    "import matplotlib.pyplot as plt\n",
    "import numpy as np\n",
    "import pandas as pd\n",
    "import matplotlib.pyplot as plt\n",
    "from sklearn.model_selection import train_test_split\n",
    "from sklearn.ensemble import IsolationForest\n",
    "from sklearn.metrics import recall_score\n",
    "from sklearn.metrics import f1_score\n",
    "import random"
   ]
  },
  {
   "cell_type": "code",
   "execution_count": 2,
   "metadata": {},
   "outputs": [],
   "source": [
    "torch.manual_seed(1)    # reproducible\n",
    "np.random.seed(1)"
   ]
  },
  {
   "cell_type": "code",
   "execution_count": 54,
   "metadata": {},
   "outputs": [],
   "source": [
    "ds = pd.read_csv('data.csv')\n",
    "pure = ds.drop(columns=['milliseconds', 'as5048a'])\n",
    "pure_np = pure.iloc[:,2:-1].values\n",
    "pure_np[12013:,2]+=0.1\n",
    "x = pure_np\n",
    "x = x / np.linalg.norm(x)\n",
    "y1 = [0]*12013+[1]*1000\n",
    "x_train, x_test, y_train, y_test = train_test_split(x,y1)"
   ]
  },
  {
   "cell_type": "code",
   "execution_count": 22,
   "metadata": {},
   "outputs": [],
   "source": [
    "\n",
    "BATCH_SIZE = 32\n",
    "LR_G = 0.0001           # learning rate for generator\n",
    "LR_D = 0.0001           # learning rate for discriminator\n",
    "N_IDEAS = 15            # think of this as number of ideas for generating an art work (Generator)\n",
    "ART_COMPONENTS = 27     # it could be total point G can draw in the canvas\n",
    "PAINT_POINTS = np.vstack([np.linspace(-1, 1, ART_COMPONENTS) for _ in range(BATCH_SIZE)])"
   ]
  },
  {
   "cell_type": "code",
   "execution_count": 23,
   "metadata": {},
   "outputs": [],
   "source": [
    "def artist_works():     # painting from the famous artist (real target)\n",
    "    a = np.random.uniform(1, 2, size=BATCH_SIZE)[:, np.newaxis]\n",
    "    paintings = a * np.power(PAINT_POINTS, 2) + (a-1)\n",
    "    paintings = torch.from_numpy(paintings).float()\n",
    "    return paintings"
   ]
  },
  {
   "cell_type": "code",
   "execution_count": 24,
   "metadata": {},
   "outputs": [],
   "source": [
    "G = nn.Sequential(                      # Generator\n",
    "    nn.Linear(N_IDEAS, 128),            # random ideas (could from normal distribution)\n",
    "    nn.ReLU(),\n",
    "    nn.Linear(128, ART_COMPONENTS),     # making a painting from these random ideas\n",
    ")\n",
    "\n",
    "D = nn.Sequential(                      # Discriminator\n",
    "    nn.Linear(ART_COMPONENTS, 128),     # receive art work either from the famous artist or a newbie like G\n",
    "    nn.ReLU(),\n",
    "    nn.Linear(128, 1),\n",
    "    nn.Sigmoid(),                       # tell the probability that the art work is made by artist\n",
    ")"
   ]
  },
  {
   "cell_type": "code",
   "execution_count": 25,
   "metadata": {},
   "outputs": [],
   "source": [
    "opt_D = torch.optim.Adam(D.parameters(), lr=LR_D)\n",
    "opt_G = torch.optim.Adam(G.parameters(), lr=LR_G)\n",
    "plt.ion()   # something about continuous plottin"
   ]
  },
  {
   "cell_type": "code",
   "execution_count": 26,
   "metadata": {},
   "outputs": [
    {
     "name": "stdout",
     "output_type": "stream",
     "text": [
      "tensor(1.4154, grad_fn=<NegBackward>)\n",
      "tensor(1.3501, grad_fn=<NegBackward>)\n",
      "tensor(1.3534, grad_fn=<NegBackward>)\n",
      "tensor(1.3685, grad_fn=<NegBackward>)\n",
      "tensor(1.3692, grad_fn=<NegBackward>)\n",
      "tensor(1.3728, grad_fn=<NegBackward>)\n",
      "tensor(1.3750, grad_fn=<NegBackward>)\n",
      "tensor(1.3781, grad_fn=<NegBackward>)\n",
      "tensor(1.3817, grad_fn=<NegBackward>)\n",
      "tensor(1.3845, grad_fn=<NegBackward>)\n",
      "tensor(1.3850, grad_fn=<NegBackward>)\n",
      "tensor(1.3848, grad_fn=<NegBackward>)\n",
      "tensor(1.3844, grad_fn=<NegBackward>)\n",
      "tensor(1.3847, grad_fn=<NegBackward>)\n",
      "tensor(1.3832, grad_fn=<NegBackward>)\n",
      "tensor(1.3838, grad_fn=<NegBackward>)\n",
      "tensor(1.3831, grad_fn=<NegBackward>)\n",
      "tensor(1.3819, grad_fn=<NegBackward>)\n",
      "tensor(1.3803, grad_fn=<NegBackward>)\n",
      "tensor(1.3773, grad_fn=<NegBackward>)\n",
      "tensor(1.3786, grad_fn=<NegBackward>)\n",
      "tensor(1.3731, grad_fn=<NegBackward>)\n",
      "tensor(1.3632, grad_fn=<NegBackward>)\n",
      "tensor(1.3681, grad_fn=<NegBackward>)\n",
      "tensor(1.3618, grad_fn=<NegBackward>)\n",
      "tensor(1.3523, grad_fn=<NegBackward>)\n",
      "tensor(1.3732, grad_fn=<NegBackward>)\n",
      "tensor(1.3507, grad_fn=<NegBackward>)\n",
      "tensor(1.3330, grad_fn=<NegBackward>)\n",
      "tensor(1.3387, grad_fn=<NegBackward>)\n",
      "tensor(1.3366, grad_fn=<NegBackward>)\n",
      "tensor(1.3443, grad_fn=<NegBackward>)\n",
      "tensor(1.3349, grad_fn=<NegBackward>)\n",
      "tensor(1.3593, grad_fn=<NegBackward>)\n",
      "tensor(1.3390, grad_fn=<NegBackward>)\n",
      "tensor(1.3388, grad_fn=<NegBackward>)\n",
      "tensor(1.3314, grad_fn=<NegBackward>)\n",
      "tensor(1.3356, grad_fn=<NegBackward>)\n",
      "tensor(1.3263, grad_fn=<NegBackward>)\n",
      "tensor(1.3430, grad_fn=<NegBackward>)\n",
      "tensor(1.3473, grad_fn=<NegBackward>)\n",
      "tensor(1.3536, grad_fn=<NegBackward>)\n",
      "tensor(1.2990, grad_fn=<NegBackward>)\n",
      "tensor(1.3379, grad_fn=<NegBackward>)\n",
      "tensor(1.2377, grad_fn=<NegBackward>)\n",
      "tensor(1.3478, grad_fn=<NegBackward>)\n",
      "tensor(1.3356, grad_fn=<NegBackward>)\n",
      "tensor(1.2669, grad_fn=<NegBackward>)\n",
      "tensor(1.2181, grad_fn=<NegBackward>)\n",
      "tensor(1.3305, grad_fn=<NegBackward>)\n",
      "tensor(1.3170, grad_fn=<NegBackward>)\n",
      "tensor(1.3254, grad_fn=<NegBackward>)\n",
      "tensor(1.3274, grad_fn=<NegBackward>)\n",
      "tensor(1.3201, grad_fn=<NegBackward>)\n",
      "tensor(1.3312, grad_fn=<NegBackward>)\n",
      "tensor(1.2975, grad_fn=<NegBackward>)\n",
      "tensor(1.2936, grad_fn=<NegBackward>)\n",
      "tensor(1.2392, grad_fn=<NegBackward>)\n",
      "tensor(1.3255, grad_fn=<NegBackward>)\n",
      "tensor(1.1887, grad_fn=<NegBackward>)\n",
      "tensor(1.2931, grad_fn=<NegBackward>)\n",
      "tensor(1.3168, grad_fn=<NegBackward>)\n",
      "tensor(1.2669, grad_fn=<NegBackward>)\n",
      "tensor(1.3336, grad_fn=<NegBackward>)\n",
      "tensor(1.2186, grad_fn=<NegBackward>)\n",
      "tensor(1.3006, grad_fn=<NegBackward>)\n",
      "tensor(1.3170, grad_fn=<NegBackward>)\n",
      "tensor(1.3208, grad_fn=<NegBackward>)\n",
      "tensor(1.2126, grad_fn=<NegBackward>)\n",
      "tensor(1.2476, grad_fn=<NegBackward>)\n",
      "tensor(1.3037, grad_fn=<NegBackward>)\n",
      "tensor(1.2999, grad_fn=<NegBackward>)\n",
      "tensor(1.3047, grad_fn=<NegBackward>)\n",
      "tensor(1.2499, grad_fn=<NegBackward>)\n",
      "tensor(1.2380, grad_fn=<NegBackward>)\n",
      "tensor(1.2644, grad_fn=<NegBackward>)\n",
      "tensor(1.3016, grad_fn=<NegBackward>)\n",
      "tensor(1.2631, grad_fn=<NegBackward>)\n",
      "tensor(1.2036, grad_fn=<NegBackward>)\n",
      "tensor(1.1925, grad_fn=<NegBackward>)\n",
      "tensor(1.3292, grad_fn=<NegBackward>)\n",
      "tensor(1.1946, grad_fn=<NegBackward>)\n",
      "tensor(1.2815, grad_fn=<NegBackward>)\n",
      "tensor(1.1868, grad_fn=<NegBackward>)\n",
      "tensor(1.3002, grad_fn=<NegBackward>)\n",
      "tensor(1.1945, grad_fn=<NegBackward>)\n",
      "tensor(1.2607, grad_fn=<NegBackward>)\n",
      "tensor(1.3079, grad_fn=<NegBackward>)\n",
      "tensor(1.2886, grad_fn=<NegBackward>)\n",
      "tensor(1.3167, grad_fn=<NegBackward>)\n",
      "tensor(1.2249, grad_fn=<NegBackward>)\n",
      "tensor(1.2313, grad_fn=<NegBackward>)\n",
      "tensor(1.2450, grad_fn=<NegBackward>)\n",
      "tensor(1.3053, grad_fn=<NegBackward>)\n",
      "tensor(1.1647, grad_fn=<NegBackward>)\n",
      "tensor(1.2012, grad_fn=<NegBackward>)\n",
      "tensor(1.1545, grad_fn=<NegBackward>)\n",
      "tensor(1.3267, grad_fn=<NegBackward>)\n",
      "tensor(1.3029, grad_fn=<NegBackward>)\n",
      "tensor(1.3144, grad_fn=<NegBackward>)\n",
      "tensor(1.2740, grad_fn=<NegBackward>)\n",
      "tensor(1.0598, grad_fn=<NegBackward>)\n",
      "tensor(1.0732, grad_fn=<NegBackward>)\n",
      "tensor(1.3084, grad_fn=<NegBackward>)\n",
      "tensor(1.2297, grad_fn=<NegBackward>)\n",
      "tensor(1.2302, grad_fn=<NegBackward>)\n",
      "tensor(1.2793, grad_fn=<NegBackward>)\n",
      "tensor(1.0131, grad_fn=<NegBackward>)\n",
      "tensor(1.1025, grad_fn=<NegBackward>)\n",
      "tensor(1.2550, grad_fn=<NegBackward>)\n",
      "tensor(1.1894, grad_fn=<NegBackward>)\n",
      "tensor(1.1350, grad_fn=<NegBackward>)\n",
      "tensor(1.0378, grad_fn=<NegBackward>)\n",
      "tensor(1.3385, grad_fn=<NegBackward>)\n",
      "tensor(1.1919, grad_fn=<NegBackward>)\n",
      "tensor(1.1994, grad_fn=<NegBackward>)\n",
      "tensor(1.2302, grad_fn=<NegBackward>)\n",
      "tensor(1.2720, grad_fn=<NegBackward>)\n",
      "tensor(1.2273, grad_fn=<NegBackward>)\n",
      "tensor(1.2557, grad_fn=<NegBackward>)\n",
      "tensor(1.0449, grad_fn=<NegBackward>)\n",
      "tensor(1.1766, grad_fn=<NegBackward>)\n",
      "tensor(1.2489, grad_fn=<NegBackward>)\n",
      "tensor(1.1829, grad_fn=<NegBackward>)\n",
      "tensor(1.2612, grad_fn=<NegBackward>)\n",
      "tensor(1.1862, grad_fn=<NegBackward>)\n",
      "tensor(1.2567, grad_fn=<NegBackward>)\n",
      "tensor(1.2699, grad_fn=<NegBackward>)\n",
      "tensor(1.2959, grad_fn=<NegBackward>)\n",
      "tensor(0.9612, grad_fn=<NegBackward>)\n",
      "tensor(1.1933, grad_fn=<NegBackward>)\n",
      "tensor(1.3237, grad_fn=<NegBackward>)\n",
      "tensor(1.0720, grad_fn=<NegBackward>)\n",
      "tensor(1.3210, grad_fn=<NegBackward>)\n",
      "tensor(1.2001, grad_fn=<NegBackward>)\n",
      "tensor(1.2159, grad_fn=<NegBackward>)\n",
      "tensor(1.2193, grad_fn=<NegBackward>)\n",
      "tensor(1.1696, grad_fn=<NegBackward>)\n",
      "tensor(1.2584, grad_fn=<NegBackward>)\n",
      "tensor(1.2493, grad_fn=<NegBackward>)\n",
      "tensor(1.1799, grad_fn=<NegBackward>)\n",
      "tensor(1.1792, grad_fn=<NegBackward>)\n",
      "tensor(1.0686, grad_fn=<NegBackward>)\n",
      "tensor(1.2844, grad_fn=<NegBackward>)\n",
      "tensor(1.0138, grad_fn=<NegBackward>)\n",
      "tensor(0.9432, grad_fn=<NegBackward>)\n",
      "tensor(1.1979, grad_fn=<NegBackward>)\n",
      "tensor(1.1135, grad_fn=<NegBackward>)\n",
      "tensor(1.2974, grad_fn=<NegBackward>)\n",
      "tensor(1.2613, grad_fn=<NegBackward>)\n",
      "tensor(1.1128, grad_fn=<NegBackward>)\n",
      "tensor(1.3167, grad_fn=<NegBackward>)\n",
      "tensor(1.0718, grad_fn=<NegBackward>)\n",
      "tensor(1.2001, grad_fn=<NegBackward>)\n",
      "tensor(1.0558, grad_fn=<NegBackward>)\n",
      "tensor(1.2681, grad_fn=<NegBackward>)\n",
      "tensor(1.0072, grad_fn=<NegBackward>)\n",
      "tensor(1.3587, grad_fn=<NegBackward>)\n",
      "tensor(1.0346, grad_fn=<NegBackward>)\n",
      "tensor(0.4247, grad_fn=<NegBackward>)\n",
      "tensor(1.1829, grad_fn=<NegBackward>)\n",
      "tensor(1.4227, grad_fn=<NegBackward>)\n",
      "tensor(1.2022, grad_fn=<NegBackward>)\n",
      "tensor(1.1943, grad_fn=<NegBackward>)\n",
      "tensor(1.4037, grad_fn=<NegBackward>)\n",
      "tensor(1.3901, grad_fn=<NegBackward>)\n",
      "tensor(0.2778, grad_fn=<NegBackward>)\n",
      "tensor(1.2046, grad_fn=<NegBackward>)\n",
      "tensor(1.1134, grad_fn=<NegBackward>)\n",
      "tensor(1.1772, grad_fn=<NegBackward>)\n",
      "tensor(1.3186, grad_fn=<NegBackward>)\n",
      "tensor(1.1542, grad_fn=<NegBackward>)\n",
      "tensor(1.1438, grad_fn=<NegBackward>)\n",
      "tensor(0.9210, grad_fn=<NegBackward>)\n",
      "tensor(1.0478, grad_fn=<NegBackward>)\n",
      "tensor(1.3442, grad_fn=<NegBackward>)\n",
      "tensor(1.2422, grad_fn=<NegBackward>)\n",
      "tensor(1.2120, grad_fn=<NegBackward>)\n",
      "tensor(1.2687, grad_fn=<NegBackward>)\n",
      "tensor(1.1890, grad_fn=<NegBackward>)\n",
      "tensor(1.1305, grad_fn=<NegBackward>)\n",
      "tensor(0.0916, grad_fn=<NegBackward>)\n",
      "tensor(1.3571, grad_fn=<NegBackward>)\n",
      "tensor(1.3915, grad_fn=<NegBackward>)\n",
      "tensor(0.0575, grad_fn=<NegBackward>)\n",
      "tensor(0.0189, grad_fn=<NegBackward>)\n",
      "tensor(0.0078, grad_fn=<NegBackward>)\n",
      "tensor(0.0037, grad_fn=<NegBackward>)\n"
     ]
    },
    {
     "ename": "KeyboardInterrupt",
     "evalue": "",
     "output_type": "error",
     "traceback": [
      "\u001b[1;31m---------------------------------------------------------------------------\u001b[0m",
      "\u001b[1;31mKeyboardInterrupt\u001b[0m                         Traceback (most recent call last)",
      "\u001b[1;32m<ipython-input-26-d61128aa49df>\u001b[0m in \u001b[0;36m<module>\u001b[1;34m\u001b[0m\n\u001b[0;32m     16\u001b[0m     \u001b[0mopt_G\u001b[0m\u001b[1;33m.\u001b[0m\u001b[0mzero_grad\u001b[0m\u001b[1;33m(\u001b[0m\u001b[1;33m)\u001b[0m\u001b[1;33m\u001b[0m\u001b[1;33m\u001b[0m\u001b[0m\n\u001b[0;32m     17\u001b[0m     \u001b[0mG_loss\u001b[0m\u001b[1;33m.\u001b[0m\u001b[0mbackward\u001b[0m\u001b[1;33m(\u001b[0m\u001b[1;33m)\u001b[0m\u001b[1;33m\u001b[0m\u001b[1;33m\u001b[0m\u001b[0m\n\u001b[1;32m---> 18\u001b[1;33m     \u001b[0mopt_G\u001b[0m\u001b[1;33m.\u001b[0m\u001b[0mstep\u001b[0m\u001b[1;33m(\u001b[0m\u001b[1;33m)\u001b[0m\u001b[1;33m\u001b[0m\u001b[1;33m\u001b[0m\u001b[0m\n\u001b[0m\u001b[0;32m     19\u001b[0m     \u001b[1;32mif\u001b[0m\u001b[1;33m(\u001b[0m\u001b[0mstep\u001b[0m\u001b[1;33m%\u001b[0m\u001b[1;36m1000\u001b[0m\u001b[1;33m==\u001b[0m\u001b[1;36m0\u001b[0m\u001b[1;33m)\u001b[0m\u001b[1;33m:\u001b[0m\u001b[1;33m\u001b[0m\u001b[1;33m\u001b[0m\u001b[0m\n\u001b[0;32m     20\u001b[0m         \u001b[0mprint\u001b[0m\u001b[1;33m(\u001b[0m\u001b[0mD_loss\u001b[0m\u001b[1;33m)\u001b[0m\u001b[1;33m\u001b[0m\u001b[1;33m\u001b[0m\u001b[0m\n",
      "\u001b[1;32mD:\\ANACONDA\\lib\\site-packages\\torch\\optim\\adam.py\u001b[0m in \u001b[0;36mstep\u001b[1;34m(self, closure)\u001b[0m\n\u001b[0;32m    105\u001b[0m                 \u001b[0mstep_size\u001b[0m \u001b[1;33m=\u001b[0m \u001b[0mgroup\u001b[0m\u001b[1;33m[\u001b[0m\u001b[1;34m'lr'\u001b[0m\u001b[1;33m]\u001b[0m \u001b[1;33m*\u001b[0m \u001b[0mmath\u001b[0m\u001b[1;33m.\u001b[0m\u001b[0msqrt\u001b[0m\u001b[1;33m(\u001b[0m\u001b[0mbias_correction2\u001b[0m\u001b[1;33m)\u001b[0m \u001b[1;33m/\u001b[0m \u001b[0mbias_correction1\u001b[0m\u001b[1;33m\u001b[0m\u001b[1;33m\u001b[0m\u001b[0m\n\u001b[0;32m    106\u001b[0m \u001b[1;33m\u001b[0m\u001b[0m\n\u001b[1;32m--> 107\u001b[1;33m                 \u001b[0mp\u001b[0m\u001b[1;33m.\u001b[0m\u001b[0mdata\u001b[0m\u001b[1;33m.\u001b[0m\u001b[0maddcdiv_\u001b[0m\u001b[1;33m(\u001b[0m\u001b[1;33m-\u001b[0m\u001b[0mstep_size\u001b[0m\u001b[1;33m,\u001b[0m \u001b[0mexp_avg\u001b[0m\u001b[1;33m,\u001b[0m \u001b[0mdenom\u001b[0m\u001b[1;33m)\u001b[0m\u001b[1;33m\u001b[0m\u001b[1;33m\u001b[0m\u001b[0m\n\u001b[0m\u001b[0;32m    108\u001b[0m \u001b[1;33m\u001b[0m\u001b[0m\n\u001b[0;32m    109\u001b[0m         \u001b[1;32mreturn\u001b[0m \u001b[0mloss\u001b[0m\u001b[1;33m\u001b[0m\u001b[1;33m\u001b[0m\u001b[0m\n",
      "\u001b[1;31mKeyboardInterrupt\u001b[0m: "
     ]
    }
   ],
   "source": [
    "list_d = []\n",
    "list_g = []\n",
    "for step in range(500000):\n",
    "    p = random.randint(1,900) \n",
    "    artist_paintings = torch.tensor(x[-1000+p:-968+p,:])\n",
    "    G_ideas = torch.randn(BATCH_SIZE, N_IDEAS)    # random ideas\n",
    "    G_paintings = G(G_ideas)                  # fake painting from G (random ideas)\n",
    "    prob_artist0 = D(artist_paintings.float())          # D try to increase this prob\n",
    "    #print(prob_artist0)\n",
    "    prob_artist1 = D(G_paintings)               # D try to reduce this prob\n",
    "    D_loss = - torch.mean(torch.log(prob_artist0) + torch.log(1. - prob_artist1))\n",
    "#     G_loss = torch.mean(torch.log(1. - prob_artist1))\n",
    "    G_loss = torch.mean(torch.log(prob_artist1))\n",
    "    opt_D.zero_grad()\n",
    "    D_loss.backward(retain_graph=True)  \n",
    "    opt_D.step()\n",
    "    opt_G.zero_grad()\n",
    "    G_loss.backward()\n",
    "    opt_G.step()\n",
    "    if(step%1000==0):\n",
    "        print(D_loss)\n",
    "        list_d.append(float(D_loss.data))\n",
    "        list_g.append(float(D_loss.data))\n",
    "#     if step % 1 == 0:  # plotting\n",
    "#         plt.cla()\n",
    "#         plt.plot(PAINT_POINTS[0], G_paintings.data.numpy()[0], c='#4AD631', lw=3, label='Generated painting',)\n",
    "#         plt.plot(PAINT_POINTS[0], 2 * np.power(PAINT_POINTS[0], 2) + 1, c='#74BCFF', lw=3, label='upper bound')\n",
    "#         plt.plot(PAINT_POINTS[0], 1 * np.power(PAINT_POINTS[0], 2) + 0, c='#FF9359', lw=3, label='lower bound')\n",
    "#         plt.text(-.5, 2.3, 'D accuracy=%.2f (0.5 for D to converge)' % prob_artist0.data.numpy().mean(), fontdict={'size': 13})\n",
    "#         plt.text(-.5, 2, 'D score= %.2f (-1.38 for G to converge)' % -D_loss.data.numpy(), fontdict={'size': 13})\n",
    "#         plt.ylim((0, 3));plt.legend(loc='upper right', fontsize=10);plt.draw();plt.pause(0.01)\n",
    "#     plt.ioff()\n",
    "#     plt.show()"
   ]
  },
  {
   "cell_type": "code",
   "execution_count": 29,
   "metadata": {},
   "outputs": [],
   "source": [
    "mylist = list(range(188))"
   ]
  },
  {
   "cell_type": "code",
   "execution_count": 30,
   "metadata": {},
   "outputs": [
    {
     "data": {
      "image/png": "[encoded data removed]",
      "text/plain": [
       "<Figure size 432x288 with 1 Axes>"
      ]
     },
     "metadata": {
      "needs_background": "light"
     },
     "output_type": "display_data"
    }
   ],
   "source": [
    "plt.plot(mylist, list_d)\n",
    "plt.xlabel('thousands of iteration')\n",
    "plt.ylabel('Loss')\n",
    "plt.savefig('loss3.jpg')\n",
    "plt.show()"
   ]
  },
  {
   "cell_type": "code",
   "execution_count": 93,
   "metadata": {},
   "outputs": [
    {
     "data": {
      "text/plain": [
       "<Figure size 432x288 with 0 Axes>"
      ]
     },
     "metadata": {},
     "output_type": "display_data"
    }
   ],
   "source": [
    "plt.savefig('loss.jpg')"
   ]
  },
  {
   "cell_type": "code",
   "execution_count": 39,
   "metadata": {},
   "outputs": [],
   "source": [
    "    \n",
    "G_ideas = torch.randn(BATCH_SIZE, N_IDEAS)    # random ideas\n",
    "G_paintings = G(G_ideas) "
   ]
  },
  {
   "cell_type": "code",
   "execution_count": 40,
   "metadata": {},
   "outputs": [],
   "source": [
    "raw = np.array(G_paintings.data)"
   ]
  },
  {
   "cell_type": "code",
   "execution_count": 41,
   "metadata": {},
   "outputs": [
    {
     "data": {
      "text/plain": [
       "(32, 27)"
      ]
     },
     "execution_count": 41,
     "metadata": {},
     "output_type": "execute_result"
    }
   ],
   "source": [
    "raw.shape"
   ]
  },
  {
   "cell_type": "code",
   "execution_count": 42,
   "metadata": {},
   "outputs": [
    {
     "name": "stdout",
     "output_type": "stream",
     "text": [
      "(32, 27)\n",
      "(32, 27)\n",
      "(32, 27)\n",
      "(64, 27)\n",
      "(32, 27)\n",
      "(96, 27)\n",
      "(32, 27)\n",
      "(128, 27)\n",
      "(32, 27)\n",
      "(160, 27)\n",
      "(32, 27)\n",
      "(192, 27)\n",
      "(32, 27)\n",
      "(224, 27)\n",
      "(32, 27)\n",
      "(256, 27)\n",
      "(32, 27)\n",
      "(288, 27)\n",
      "(32, 27)\n",
      "(320, 27)\n",
      "(32, 27)\n",
      "(352, 27)\n",
      "(32, 27)\n",
      "(384, 27)\n",
      "(32, 27)\n",
      "(416, 27)\n",
      "(32, 27)\n",
      "(448, 27)\n",
      "(32, 27)\n",
      "(480, 27)\n",
      "(32, 27)\n",
      "(512, 27)\n",
      "(32, 27)\n",
      "(544, 27)\n",
      "(32, 27)\n",
      "(576, 27)\n",
      "(32, 27)\n",
      "(608, 27)\n",
      "(32, 27)\n",
      "(640, 27)\n",
      "(32, 27)\n",
      "(672, 27)\n",
      "(32, 27)\n",
      "(704, 27)\n",
      "(32, 27)\n",
      "(736, 27)\n",
      "(32, 27)\n",
      "(768, 27)\n",
      "(32, 27)\n",
      "(800, 27)\n",
      "(32, 27)\n",
      "(832, 27)\n",
      "(32, 27)\n",
      "(864, 27)\n",
      "(32, 27)\n",
      "(896, 27)\n",
      "(32, 27)\n",
      "(928, 27)\n",
      "(32, 27)\n",
      "(960, 27)\n",
      "(32, 27)\n",
      "(992, 27)\n",
      "(32, 27)\n",
      "(1024, 27)\n",
      "(32, 27)\n",
      "(1056, 27)\n",
      "(32, 27)\n",
      "(1088, 27)\n",
      "(32, 27)\n",
      "(1120, 27)\n",
      "(32, 27)\n",
      "(1152, 27)\n",
      "(32, 27)\n",
      "(1184, 27)\n",
      "(32, 27)\n",
      "(1216, 27)\n",
      "(32, 27)\n",
      "(1248, 27)\n",
      "(32, 27)\n",
      "(1280, 27)\n",
      "(32, 27)\n",
      "(1312, 27)\n",
      "(32, 27)\n",
      "(1344, 27)\n",
      "(32, 27)\n",
      "(1376, 27)\n",
      "(32, 27)\n",
      "(1408, 27)\n",
      "(32, 27)\n",
      "(1440, 27)\n",
      "(32, 27)\n",
      "(1472, 27)\n",
      "(32, 27)\n",
      "(1504, 27)\n",
      "(32, 27)\n",
      "(1536, 27)\n",
      "(32, 27)\n",
      "(1568, 27)\n",
      "(32, 27)\n",
      "(1600, 27)\n",
      "(32, 27)\n",
      "(1632, 27)\n",
      "(32, 27)\n",
      "(1664, 27)\n",
      "(32, 27)\n",
      "(1696, 27)\n",
      "(32, 27)\n",
      "(1728, 27)\n",
      "(32, 27)\n",
      "(1760, 27)\n",
      "(32, 27)\n",
      "(1792, 27)\n",
      "(32, 27)\n",
      "(1824, 27)\n",
      "(32, 27)\n",
      "(1856, 27)\n",
      "(32, 27)\n",
      "(1888, 27)\n",
      "(32, 27)\n",
      "(1920, 27)\n",
      "(32, 27)\n",
      "(1952, 27)\n",
      "(32, 27)\n",
      "(1984, 27)\n",
      "(32, 27)\n",
      "(2016, 27)\n",
      "(32, 27)\n",
      "(2048, 27)\n",
      "(32, 27)\n",
      "(2080, 27)\n",
      "(32, 27)\n",
      "(2112, 27)\n",
      "(32, 27)\n",
      "(2144, 27)\n",
      "(32, 27)\n",
      "(2176, 27)\n",
      "(32, 27)\n",
      "(2208, 27)\n",
      "(32, 27)\n",
      "(2240, 27)\n",
      "(32, 27)\n",
      "(2272, 27)\n",
      "(32, 27)\n",
      "(2304, 27)\n",
      "(32, 27)\n",
      "(2336, 27)\n",
      "(32, 27)\n",
      "(2368, 27)\n",
      "(32, 27)\n",
      "(2400, 27)\n",
      "(32, 27)\n",
      "(2432, 27)\n",
      "(32, 27)\n",
      "(2464, 27)\n",
      "(32, 27)\n",
      "(2496, 27)\n",
      "(32, 27)\n",
      "(2528, 27)\n",
      "(32, 27)\n",
      "(2560, 27)\n",
      "(32, 27)\n",
      "(2592, 27)\n",
      "(32, 27)\n",
      "(2624, 27)\n",
      "(32, 27)\n",
      "(2656, 27)\n",
      "(32, 27)\n",
      "(2688, 27)\n",
      "(32, 27)\n",
      "(2720, 27)\n",
      "(32, 27)\n",
      "(2752, 27)\n",
      "(32, 27)\n",
      "(2784, 27)\n",
      "(32, 27)\n",
      "(2816, 27)\n",
      "(32, 27)\n",
      "(2848, 27)\n",
      "(32, 27)\n",
      "(2880, 27)\n",
      "(32, 27)\n",
      "(2912, 27)\n",
      "(32, 27)\n",
      "(2944, 27)\n",
      "(32, 27)\n",
      "(2976, 27)\n",
      "(32, 27)\n",
      "(3008, 27)\n",
      "(32, 27)\n",
      "(3040, 27)\n",
      "(32, 27)\n",
      "(3072, 27)\n",
      "(32, 27)\n",
      "(3104, 27)\n",
      "(32, 27)\n",
      "(3136, 27)\n",
      "(32, 27)\n",
      "(3168, 27)\n",
      "(32, 27)\n",
      "(3200, 27)\n",
      "(32, 27)\n",
      "(3232, 27)\n",
      "(32, 27)\n",
      "(3264, 27)\n",
      "(32, 27)\n",
      "(3296, 27)\n",
      "(32, 27)\n",
      "(3328, 27)\n",
      "(32, 27)\n",
      "(3360, 27)\n",
      "(32, 27)\n",
      "(3392, 27)\n",
      "(32, 27)\n",
      "(3424, 27)\n",
      "(32, 27)\n",
      "(3456, 27)\n",
      "(32, 27)\n",
      "(3488, 27)\n",
      "(32, 27)\n",
      "(3520, 27)\n",
      "(32, 27)\n",
      "(3552, 27)\n",
      "(32, 27)\n",
      "(3584, 27)\n",
      "(32, 27)\n",
      "(3616, 27)\n",
      "(32, 27)\n",
      "(3648, 27)\n",
      "(32, 27)\n",
      "(3680, 27)\n",
      "(32, 27)\n",
      "(3712, 27)\n",
      "(32, 27)\n",
      "(3744, 27)\n",
      "(32, 27)\n",
      "(3776, 27)\n",
      "(32, 27)\n",
      "(3808, 27)\n",
      "(32, 27)\n",
      "(3840, 27)\n",
      "(32, 27)\n",
      "(3872, 27)\n",
      "(32, 27)\n",
      "(3904, 27)\n",
      "(32, 27)\n",
      "(3936, 27)\n",
      "(32, 27)\n",
      "(3968, 27)\n",
      "(32, 27)\n",
      "(4000, 27)\n",
      "(32, 27)\n",
      "(4032, 27)\n",
      "(32, 27)\n",
      "(4064, 27)\n",
      "(32, 27)\n",
      "(4096, 27)\n",
      "(32, 27)\n",
      "(4128, 27)\n",
      "(32, 27)\n",
      "(4160, 27)\n",
      "(32, 27)\n",
      "(4192, 27)\n",
      "(32, 27)\n",
      "(4224, 27)\n",
      "(32, 27)\n",
      "(4256, 27)\n",
      "(32, 27)\n",
      "(4288, 27)\n",
      "(32, 27)\n",
      "(4320, 27)\n",
      "(32, 27)\n",
      "(4352, 27)\n",
      "(32, 27)\n",
      "(4384, 27)\n",
      "(32, 27)\n",
      "(4416, 27)\n",
      "(32, 27)\n",
      "(4448, 27)\n",
      "(32, 27)\n",
      "(4480, 27)\n",
      "(32, 27)\n",
      "(4512, 27)\n",
      "(32, 27)\n",
      "(4544, 27)\n",
      "(32, 27)\n",
      "(4576, 27)\n",
      "(32, 27)\n",
      "(4608, 27)\n",
      "(32, 27)\n",
      "(4640, 27)\n",
      "(32, 27)\n",
      "(4672, 27)\n",
      "(32, 27)\n",
      "(4704, 27)\n",
      "(32, 27)\n",
      "(4736, 27)\n",
      "(32, 27)\n",
      "(4768, 27)\n",
      "(32, 27)\n",
      "(4800, 27)\n",
      "(32, 27)\n",
      "(4832, 27)\n",
      "(32, 27)\n",
      "(4864, 27)\n",
      "(32, 27)\n",
      "(4896, 27)\n",
      "(32, 27)\n",
      "(4928, 27)\n",
      "(32, 27)\n",
      "(4960, 27)\n",
      "(32, 27)\n",
      "(4992, 27)\n",
      "(32, 27)\n",
      "(5024, 27)\n",
      "(32, 27)\n",
      "(5056, 27)\n",
      "(32, 27)\n",
      "(5088, 27)\n",
      "(32, 27)\n",
      "(5120, 27)\n",
      "(32, 27)\n",
      "(5152, 27)\n",
      "(32, 27)\n",
      "(5184, 27)\n",
      "(32, 27)\n",
      "(5216, 27)\n",
      "(32, 27)\n",
      "(5248, 27)\n",
      "(32, 27)\n",
      "(5280, 27)\n",
      "(32, 27)\n",
      "(5312, 27)\n",
      "(32, 27)\n",
      "(5344, 27)\n",
      "(32, 27)\n",
      "(5376, 27)\n",
      "(32, 27)\n",
      "(5408, 27)\n",
      "(32, 27)\n",
      "(5440, 27)\n",
      "(32, 27)\n",
      "(5472, 27)\n",
      "(32, 27)\n",
      "(5504, 27)\n",
      "(32, 27)\n",
      "(5536, 27)\n",
      "(32, 27)\n",
      "(5568, 27)\n",
      "(32, 27)\n",
      "(5600, 27)\n",
      "(32, 27)\n",
      "(5632, 27)\n",
      "(32, 27)\n",
      "(5664, 27)\n",
      "(32, 27)\n",
      "(5696, 27)\n",
      "(32, 27)\n",
      "(5728, 27)\n",
      "(32, 27)\n",
      "(5760, 27)\n",
      "(32, 27)\n",
      "(5792, 27)\n",
      "(32, 27)\n",
      "(5824, 27)\n",
      "(32, 27)\n",
      "(5856, 27)\n",
      "(32, 27)\n",
      "(5888, 27)\n",
      "(32, 27)\n",
      "(5920, 27)\n",
      "(32, 27)\n",
      "(5952, 27)\n",
      "(32, 27)\n",
      "(5984, 27)\n",
      "(32, 27)\n",
      "(6016, 27)\n",
      "(32, 27)\n",
      "(6048, 27)\n",
      "(32, 27)\n",
      "(6080, 27)\n",
      "(32, 27)\n",
      "(6112, 27)\n",
      "(32, 27)\n",
      "(6144, 27)\n",
      "(32, 27)\n",
      "(6176, 27)\n",
      "(32, 27)\n",
      "(6208, 27)\n",
      "(32, 27)\n",
      "(6240, 27)\n",
      "(32, 27)\n",
      "(6272, 27)\n",
      "(32, 27)\n",
      "(6304, 27)\n",
      "(32, 27)\n",
      "(6336, 27)\n",
      "(32, 27)\n",
      "(6368, 27)\n",
      "(32, 27)\n",
      "(6400, 27)\n"
     ]
    }
   ],
   "source": [
    "for i in range(200):\n",
    "    G_ideas = torch.randn(BATCH_SIZE, N_IDEAS)    # random ideas\n",
    "    G_paintings = G(G_ideas)\n",
    "    b = np.array(G_paintings.data)\n",
    "    print(b.shape)\n",
    "    print(raw.shape)\n",
    "    raw = np.concatenate((raw,b))"
   ]
  },
  {
   "cell_type": "code",
   "execution_count": 45,
   "metadata": {},
   "outputs": [],
   "source": [
    "generated = raw"
   ]
  },
  {
   "cell_type": "code",
   "execution_count": 46,
   "metadata": {},
   "outputs": [],
   "source": [
    "import pandas as pd\n",
    "from sklearn.manifold import TSNE\n",
    "from matplotlib import pyplot as plt\n",
    "import numpy as np"
   ]
  },
  {
   "cell_type": "code",
   "execution_count": 47,
   "metadata": {},
   "outputs": [],
   "source": [
    "x = np.concatenate((x,generated))"
   ]
  },
  {
   "cell_type": "code",
   "execution_count": 48,
   "metadata": {},
   "outputs": [
    {
     "data": {
      "text/plain": [
       "(19445, 27)"
      ]
     },
     "execution_count": 48,
     "metadata": {},
     "output_type": "execute_result"
    }
   ],
   "source": [
    "x.shape"
   ]
  },
  {
   "cell_type": "code",
   "execution_count": 49,
   "metadata": {},
   "outputs": [],
   "source": [
    "tsne = TSNE(n_components=2, random_state=0, perplexity=10)\n",
    "X_2d = tsne.fit_transform(x)"
   ]
  },
  {
   "cell_type": "code",
   "execution_count": 57,
   "metadata": {},
   "outputs": [
    {
     "data": {
      "image/png": "[encoded data removed]",
      "text/plain": [
       "<Figure size 720x576 with 1 Axes>"
      ]
     },
     "metadata": {
      "needs_background": "light"
     },
     "output_type": "display_data"
    }
   ],
   "source": [
    "plt.figure(figsize=(10, 8))\n",
    "plt.scatter(X_2d[:12013,0],X_2d[:12013,1],color='r',marker='o',s=5,label='Normal')\n",
    "plt.scatter(X_2d[12013:13013,0],X_2d[12013:13013,1],color='g',s=5,label='Anomaly')\n",
    "plt.scatter(X_2d[13013:,0],X_2d[13013:,1],color='b',s=5,label='Generated')\n",
    "\n",
    "\n",
    "plt.legend()\n",
    "plt.savefig('scat7.jpg')\n",
    "plt.show()"
   ]
  },
  {
   "cell_type": "code",
   "execution_count": 62,
   "metadata": {},
   "outputs": [],
   "source": [
    "y = [0]*12013+[1]*(19445-12013)"
   ]
  },
  {
   "cell_type": "code",
   "execution_count": 51,
   "metadata": {},
   "outputs": [],
   "source": [
    "x_train, x_test1, y_train, y_test1 = train_test_split(x,y)\n",
    "rng = np.random.RandomState(42)\n"
   ]
  },
  {
   "cell_type": "code",
   "execution_count": 82,
   "metadata": {},
   "outputs": [
    {
     "name": "stdout",
     "output_type": "stream",
     "text": [
      "0.9768364242248624\n",
      "0.9740842019314442\n"
     ]
    }
   ],
   "source": [
    "from sklearn.neighbors import KNeighborsClassifier  \n",
    "neigh = KNeighborsClassifier(n_neighbors=1)  \n",
    "neigh.fit(x_train, y_train)\n",
    "y_pred = neigh.predict(x_test)\n",
    "print(recall_score(y_test, y_pred, average='macro'))\n",
    "print(f1_score(y_test, y_pred, average='macro'))"
   ]
  },
  {
   "cell_type": "code",
   "execution_count": 58,
   "metadata": {},
   "outputs": [
    {
     "name": "stdout",
     "output_type": "stream",
     "text": [
      "0.9891642333325903\n",
      "0.9920204725430057\n"
     ]
    }
   ],
   "source": [
    "from sklearn.naive_bayes import GaussianNB\n",
    "\n",
    "gnb = GaussianNB()\n",
    "y_pred = gnb.fit(x_train, y_train).predict(x_test)\n",
    "print(recall_score(y_test, y_pred, average='macro'))\n",
    "print(f1_score(y_test, y_pred, average='macro'))"
   ]
  },
  {
   "cell_type": "code",
   "execution_count": 59,
   "metadata": {},
   "outputs": [
    {
     "name": "stdout",
     "output_type": "stream",
     "text": [
      "0.9329611818202082\n",
      "0.7712091194957889\n"
     ]
    }
   ],
   "source": [
    "from sklearn.naive_bayes import BernoulliNB\n",
    "clf = BernoulliNB()\n",
    "y_pred = clf.fit(x_train, y_train).predict(x_test)\n",
    "print(recall_score(y_test, y_pred, average='macro'))\n",
    "print(f1_score(y_test, y_pred, average='macro'))"
   ]
  },
  {
   "cell_type": "code",
   "execution_count": 64,
   "metadata": {},
   "outputs": [],
   "source": [
    "from sklearn.neighbors import LocalOutlierFactor\n",
    "clf = LocalOutlierFactor(n_neighbors=20)\n",
    "y_pred = clf.fit_predict(x_train)\n"
   ]
  },
  {
   "cell_type": "code",
   "execution_count": 65,
   "metadata": {},
   "outputs": [
    {
     "name": "stdout",
     "output_type": "stream",
     "text": [
      "0.515222265689613\n",
      "0.15154021697011127\n"
     ]
    }
   ],
   "source": [
    "y_pred = [0 if i < 0 else i for i in y_pred]\n",
    "print(recall_score(y_train, y_pred, average='macro'))\n",
    "print(f1_score(y_train, y_pred, average='macro'))"
   ]
  },
  {
   "cell_type": "code",
   "execution_count": 66,
   "metadata": {},
   "outputs": [],
   "source": [
    "from pyod.models.abod import ABOD"
   ]
  },
  {
   "cell_type": "code",
   "execution_count": 67,
   "metadata": {},
   "outputs": [
    {
     "name": "stderr",
     "output_type": "stream",
     "text": [
      "D:\\ANACONDA\\lib\\site-packages\\numpy\\core\\fromnumeric.py:3367: RuntimeWarning: Degrees of freedom <= 0 for slice\n",
      "  **kwargs)\n",
      "D:\\ANACONDA\\lib\\site-packages\\numpy\\core\\_methods.py:110: RuntimeWarning: invalid value encountered in true_divide\n",
      "  arrmean, rcount, out=arrmean, casting='unsafe', subok=False)\n",
      "D:\\ANACONDA\\lib\\site-packages\\numpy\\core\\_methods.py:132: RuntimeWarning: invalid value encountered in double_scalars\n",
      "  ret = ret.dtype.type(ret / rcount)\n",
      "D:\\ANACONDA\\lib\\site-packages\\numpy\\lib\\function_base.py:3826: RuntimeWarning: Invalid value encountered in percentile\n",
      "  interpolation=interpolation)\n",
      "D:\\ANACONDA\\lib\\site-packages\\pyod\\models\\base.py:365: RuntimeWarning: invalid value encountered in greater\n",
      "  self.labels_ = (self.decision_scores_ > self.threshold_).astype(\n",
      "D:\\ANACONDA\\lib\\site-packages\\pyod\\models\\base.py:168: RuntimeWarning: invalid value encountered in greater\n",
      "  return (pred_score > self.threshold_).astype('int').ravel()\n"
     ]
    },
    {
     "name": "stdout",
     "output_type": "stream",
     "text": [
      "0.5\n",
      "0.06815578465063\n"
     ]
    }
   ],
   "source": [
    "clf = ABOD()\n",
    "clf.fit(x_train)\n",
    "y_pred = clf.predict(x_test)\n",
    "y_pred = 1-y_pred\n",
    "print(recall_score(y_test, y_pred, average='macro'))\n",
    "print(f1_score(y_test, y_pred, average='macro'))"
   ]
  },
  {
   "cell_type": "code",
   "execution_count": 68,
   "metadata": {},
   "outputs": [
    {
     "name": "stderr",
     "output_type": "stream",
     "text": [
      "Using TensorFlow backend.\n"
     ]
    }
   ],
   "source": [
    "from pyod.models.auto_encoder import AutoEncoder"
   ]
  },
  {
   "cell_type": "code",
   "execution_count": 69,
   "metadata": {},
   "outputs": [
    {
     "name": "stdout",
     "output_type": "stream",
     "text": [
      "WARNING:tensorflow:From D:\\ANACONDA\\lib\\site-packages\\tensorflow\\python\\ops\\resource_variable_ops.py:435: colocate_with (from tensorflow.python.framework.ops) is deprecated and will be removed in a future version.\n",
      "Instructions for updating:\n",
      "Colocations handled automatically by placer.\n",
      "Model: \"sequential_1\"\n",
      "_________________________________________________________________\n",
      "Layer (type)                 Output Shape              Param #   \n",
      "=================================================================\n",
      "dense_1 (Dense)              (None, 27)                756       \n",
      "_________________________________________________________________\n",
      "dropout_1 (Dropout)          (None, 27)                0         \n",
      "_________________________________________________________________\n",
      "dense_2 (Dense)              (None, 27)                756       \n",
      "_________________________________________________________________\n",
      "dropout_2 (Dropout)          (None, 27)                0         \n",
      "_________________________________________________________________\n",
      "dense_3 (Dense)              (None, 33)                924       \n",
      "_________________________________________________________________\n",
      "dropout_3 (Dropout)          (None, 33)                0         \n",
      "_________________________________________________________________\n",
      "dense_4 (Dense)              (None, 16)                544       \n",
      "_________________________________________________________________\n",
      "dropout_4 (Dropout)          (None, 16)                0         \n",
      "_________________________________________________________________\n",
      "dense_5 (Dense)              (None, 16)                272       \n",
      "_________________________________________________________________\n",
      "dropout_5 (Dropout)          (None, 16)                0         \n",
      "_________________________________________________________________\n",
      "dense_6 (Dense)              (None, 33)                561       \n",
      "_________________________________________________________________\n",
      "dropout_6 (Dropout)          (None, 33)                0         \n",
      "_________________________________________________________________\n",
      "dense_7 (Dense)              (None, 27)                918       \n",
      "=================================================================\n",
      "Total params: 4,731\n",
      "Trainable params: 4,731\n",
      "Non-trainable params: 0\n",
      "_________________________________________________________________\n",
      "None\n",
      "WARNING:tensorflow:From D:\\ANACONDA\\lib\\site-packages\\tensorflow\\python\\ops\\math_ops.py:3066: to_int32 (from tensorflow.python.ops.math_ops) is deprecated and will be removed in a future version.\n",
      "Instructions for updating:\n",
      "Use tf.cast instead.\n",
      "Train on 8783 samples, validate on 976 samples\n",
      "Epoch 1/30\n",
      "8783/8783 [==============================] - ETA: 2:33 - loss: 119.591 - ETA: 4s - loss: 105.4781  - ETA: 1s - loss: 84.526 - ETA: 1s - loss: 71.26 - ETA: 0s - loss: 62.28 - ETA: 0s - loss: 54.99 - ETA: 0s - loss: 49.02 - ETA: 0s - loss: 44.58 - 1s 115us/step - loss: 44.2092 - val_loss: 16.0673\n",
      "Epoch 2/30\n",
      "8783/8783 [==============================] - ETA: 0s - loss: 16.24 - ETA: 0s - loss: 14.23 - ETA: 0s - loss: 13.87 - ETA: 0s - loss: 12.83 - ETA: 0s - loss: 12.69 - ETA: 0s - loss: 11.82 - ETA: 0s - loss: 11.10 - 0s 40us/step - loss: 10.9452 - val_loss: 6.8061\n",
      "Epoch 3/30\n",
      "8783/8783 [==============================] - ETA: 0s - loss: 6.407 - ETA: 0s - loss: 7.023 - ETA: 0s - loss: 6.495 - ETA: 0s - loss: 6.174 - ETA: 0s - loss: 5.978 - ETA: 0s - loss: 5.815 - ETA: 0s - loss: 5.767 - 0s 40us/step - loss: 5.7853 - val_loss: 4.3966\n",
      "Epoch 4/30\n",
      "8783/8783 [==============================] - ETA: 0s - loss: 5.325 - ETA: 0s - loss: 4.407 - ETA: 0s - loss: 4.233 - ETA: 0s - loss: 4.193 - ETA: 0s - loss: 4.189 - ETA: 0s - loss: 4.217 - ETA: 0s - loss: 4.134 - 0s 39us/step - loss: 4.1006 - val_loss: 3.4212\n",
      "Epoch 5/30\n",
      "8783/8783 [==============================] - ETA: 1s - loss: 3.510 - ETA: 0s - loss: 3.952 - ETA: 0s - loss: 3.673 - ETA: 0s - loss: 3.519 - ETA: 0s - loss: 3.421 - ETA: 0s - loss: 3.336 - ETA: 0s - loss: 3.316 - 0s 40us/step - loss: 3.3101 - val_loss: 2.9070\n",
      "Epoch 6/30\n",
      "8783/8783 [==============================] - ETA: 0s - loss: 3.470 - ETA: 0s - loss: 2.971 - ETA: 0s - loss: 2.921 - ETA: 0s - loss: 3.005 - ETA: 0s - loss: 2.950 - ETA: 0s - loss: 2.891 - ETA: 0s - loss: 2.878 - 0s 40us/step - loss: 2.8591 - val_loss: 2.5691\n",
      "Epoch 7/30\n",
      "8783/8783 [==============================] - ETA: 0s - loss: 2.328 - ETA: 0s - loss: 2.582 - ETA: 0s - loss: 2.537 - ETA: 0s - loss: 2.545 - ETA: 0s - loss: 2.516 - ETA: 0s - loss: 2.567 - ETA: 0s - loss: 2.543 - 0s 40us/step - loss: 2.5400 - val_loss: 2.3324\n",
      "Epoch 8/30\n",
      "8783/8783 [==============================] - ETA: 0s - loss: 2.335 - ETA: 0s - loss: 2.315 - ETA: 0s - loss: 2.294 - ETA: 0s - loss: 2.378 - ETA: 0s - loss: 2.352 - ETA: 0s - loss: 2.355 - ETA: 0s - loss: 2.342 - 0s 42us/step - loss: 2.3181 - val_loss: 2.1519\n",
      "Epoch 9/30\n",
      "8783/8783 [==============================] - ETA: 0s - loss: 2.153 - ETA: 0s - loss: 2.155 - ETA: 0s - loss: 2.205 - ETA: 0s - loss: 2.195 - ETA: 0s - loss: 2.174 - ETA: 0s - loss: 2.150 - ETA: 0s - loss: 2.155 - 0s 41us/step - loss: 2.1462 - val_loss: 2.0094\n",
      "Epoch 10/30\n",
      "8783/8783 [==============================] - ETA: 0s - loss: 2.216 - ETA: 0s - loss: 2.109 - ETA: 0s - loss: 2.061 - ETA: 0s - loss: 2.081 - ETA: 0s - loss: 2.053 - ETA: 0s - loss: 2.038 - ETA: 0s - loss: 2.022 - ETA: 0s - loss: 2.008 - 0s 44us/step - loss: 2.0067 - val_loss: 1.8903\n",
      "Epoch 11/30\n",
      "8783/8783 [==============================] - ETA: 0s - loss: 1.981 - ETA: 0s - loss: 1.931 - ETA: 0s - loss: 1.920 - ETA: 0s - loss: 1.913 - ETA: 0s - loss: 1.912 - ETA: 0s - loss: 1.906 - ETA: 0s - loss: 1.899 - 0s 42us/step - loss: 1.8898 - val_loss: 1.7908\n",
      "Epoch 12/30\n",
      "8783/8783 [==============================] - ETA: 0s - loss: 1.919 - ETA: 0s - loss: 1.813 - ETA: 0s - loss: 1.805 - ETA: 0s - loss: 1.824 - ETA: 0s - loss: 1.808 - ETA: 0s - loss: 1.794 - ETA: 0s - loss: 1.793 - 0s 40us/step - loss: 1.7898 - val_loss: 1.7060\n",
      "Epoch 13/30\n",
      "8783/8783 [==============================] - ETA: 0s - loss: 1.865 - ETA: 0s - loss: 1.702 - ETA: 0s - loss: 1.693 - ETA: 0s - loss: 1.708 - ETA: 0s - loss: 1.717 - ETA: 0s - loss: 1.706 - ETA: 0s - loss: 1.703 - ETA: 0s - loss: 1.707 - 0s 44us/step - loss: 1.7055 - val_loss: 1.6333\n",
      "Epoch 14/30\n",
      "8783/8783 [==============================] - ETA: 0s - loss: 1.530 - ETA: 0s - loss: 1.692 - ETA: 0s - loss: 1.671 - ETA: 0s - loss: 1.659 - ETA: 0s - loss: 1.647 - ETA: 0s - loss: 1.644 - ETA: 0s - loss: 1.641 - 0s 42us/step - loss: 1.6329 - val_loss: 1.5681\n",
      "Epoch 15/30\n",
      "8783/8783 [==============================] - ETA: 0s - loss: 1.387 - ETA: 0s - loss: 1.599 - ETA: 0s - loss: 1.644 - ETA: 0s - loss: 1.618 - ETA: 0s - loss: 1.588 - ETA: 0s - loss: 1.573 - ETA: 0s - loss: 1.571 - 0s 40us/step - loss: 1.5664 - val_loss: 1.5111\n",
      "Epoch 16/30\n",
      "8783/8783 [==============================] - ETA: 0s - loss: 1.537 - ETA: 0s - loss: 1.490 - ETA: 0s - loss: 1.542 - ETA: 0s - loss: 1.536 - ETA: 0s - loss: 1.530 - ETA: 0s - loss: 1.527 - ETA: 0s - loss: 1.515 - 0s 40us/step - loss: 1.5069 - val_loss: 1.4590\n",
      "Epoch 17/30\n",
      "8783/8783 [==============================] - ETA: 0s - loss: 1.477 - ETA: 0s - loss: 1.464 - ETA: 0s - loss: 1.489 - ETA: 0s - loss: 1.477 - ETA: 0s - loss: 1.467 - ETA: 0s - loss: 1.468 - ETA: 0s - loss: 1.458 - 0s 41us/step - loss: 1.4558 - val_loss: 1.4134\n",
      "Epoch 18/30\n",
      "8783/8783 [==============================] - ETA: 0s - loss: 1.288 - ETA: 0s - loss: 1.410 - ETA: 0s - loss: 1.434 - ETA: 0s - loss: 1.418 - ETA: 0s - loss: 1.408 - ETA: 0s - loss: 1.415 - ETA: 0s - loss: 1.417 - 0s 41us/step - loss: 1.4100 - val_loss: 1.3721\n",
      "Epoch 19/30\n",
      "8783/8783 [==============================] - ETA: 0s - loss: 1.292 - ETA: 0s - loss: 1.382 - ETA: 0s - loss: 1.376 - ETA: 0s - loss: 1.394 - ETA: 0s - loss: 1.403 - ETA: 0s - loss: 1.395 - ETA: 0s - loss: 1.379 - ETA: 0s - loss: 1.368 - 0s 45us/step - loss: 1.3672 - val_loss: 1.3353\n",
      "Epoch 20/30\n",
      "8783/8783 [==============================] - ETA: 0s - loss: 1.376 - ETA: 0s - loss: 1.338 - ETA: 0s - loss: 1.351 - ETA: 0s - loss: 1.351 - ETA: 0s - loss: 1.349 - ETA: 0s - loss: 1.344 - ETA: 0s - loss: 1.332 - 0s 40us/step - loss: 1.3292 - val_loss: 1.3013\n",
      "Epoch 21/30\n",
      "8783/8783 [==============================] - ETA: 0s - loss: 1.364 - ETA: 0s - loss: 1.328 - ETA: 0s - loss: 1.314 - ETA: 0s - loss: 1.298 - ETA: 0s - loss: 1.298 - ETA: 0s - loss: 1.295 - ETA: 0s - loss: 1.295 - 0s 38us/step - loss: 1.2958 - val_loss: 1.2706\n",
      "Epoch 22/30\n",
      "8783/8783 [==============================] - ETA: 0s - loss: 1.335 - ETA: 0s - loss: 1.267 - ETA: 0s - loss: 1.267 - ETA: 0s - loss: 1.255 - ETA: 0s - loss: 1.264 - ETA: 0s - loss: 1.264 - 0s 37us/step - loss: 1.2636 - val_loss: 1.2429\n",
      "Epoch 23/30\n",
      "8783/8783 [==============================] - ETA: 0s - loss: 1.107 - ETA: 0s - loss: 1.239 - ETA: 0s - loss: 1.252 - ETA: 0s - loss: 1.230 - ETA: 0s - loss: 1.233 - ETA: 0s - loss: 1.233 - ETA: 0s - loss: 1.226 - 0s 41us/step - loss: 1.2355 - val_loss: 1.2176\n",
      "Epoch 24/30\n",
      "8783/8783 [==============================] - ETA: 0s - loss: 1.322 - ETA: 0s - loss: 1.198 - ETA: 0s - loss: 1.193 - ETA: 0s - loss: 1.187 - ETA: 0s - loss: 1.198 - ETA: 0s - loss: 1.211 - ETA: 0s - loss: 1.203 - 0s 40us/step - loss: 1.2090 - val_loss: 1.1943\n",
      "Epoch 25/30\n",
      "8783/8783 [==============================] - ETA: 0s - loss: 1.373 - ETA: 0s - loss: 1.171 - ETA: 0s - loss: 1.189 - ETA: 0s - loss: 1.177 - ETA: 0s - loss: 1.171 - ETA: 0s - loss: 1.171 - ETA: 0s - loss: 1.181 - 0s 40us/step - loss: 1.1856 - val_loss: 1.1738\n",
      "Epoch 26/30\n",
      "8783/8783 [==============================] - ETA: 0s - loss: 0.940 - ETA: 0s - loss: 1.220 - ETA: 0s - loss: 1.183 - ETA: 0s - loss: 1.183 - ETA: 0s - loss: 1.181 - ETA: 0s - loss: 1.165 - ETA: 0s - loss: 1.168 - 0s 41us/step - loss: 1.1645 - val_loss: 1.1547\n",
      "Epoch 27/30\n",
      "8783/8783 [==============================] - ETA: 0s - loss: 1.213 - ETA: 0s - loss: 1.135 - ETA: 0s - loss: 1.140 - ETA: 0s - loss: 1.154 - ETA: 0s - loss: 1.153 - ETA: 0s - loss: 1.148 - ETA: 0s - loss: 1.148 - 0s 40us/step - loss: 1.1456 - val_loss: 1.1375\n",
      "Epoch 28/30\n",
      "8783/8783 [==============================] - ETA: 0s - loss: 1.060 - ETA: 0s - loss: 1.104 - ETA: 0s - loss: 1.113 - ETA: 0s - loss: 1.106 - ETA: 0s - loss: 1.109 - ETA: 0s - loss: 1.110 - ETA: 0s - loss: 1.124 - ETA: 0s - loss: 1.124 - 0s 45us/step - loss: 1.1281 - val_loss: 1.1221\n",
      "Epoch 29/30\n",
      "8783/8783 [==============================] - ETA: 0s - loss: 1.046 - ETA: 0s - loss: 1.072 - ETA: 0s - loss: 1.064 - ETA: 0s - loss: 1.067 - ETA: 0s - loss: 1.077 - ETA: 0s - loss: 1.089 - ETA: 0s - loss: 1.108 - 0s 42us/step - loss: 1.1124 - val_loss: 1.1082\n",
      "Epoch 30/30\n",
      "8783/8783 [==============================] - ETA: 0s - loss: 1.447 - ETA: 0s - loss: 1.083 - ETA: 0s - loss: 1.079 - ETA: 0s - loss: 1.085 - ETA: 0s - loss: 1.092 - ETA: 0s - loss: 1.095 - ETA: 0s - loss: 1.098 - 0s 39us/step - loss: 1.0988 - val_loss: 1.0958\n",
      "0.5001657824933687\n",
      "0.0685067630225248\n"
     ]
    }
   ],
   "source": [
    "clf = AutoEncoder(epochs=30, contamination=0.001, hidden_neurons=[33,16,16,33])\n",
    "clf.fit(x_train)\n",
    "y_pred = clf.predict(x_test)\n",
    "y_pred = 1-y_pred\n",
    "print(recall_score(y_test, y_pred, average='macro'))\n",
    "print(f1_score(y_test, y_pred, average='macro'))"
   ]
  },
  {
   "cell_type": "code",
   "execution_count": 70,
   "metadata": {},
   "outputs": [
    {
     "name": "stdout",
     "output_type": "stream",
     "text": [
      "0.5263482714040523\n",
      "0.16445753169438398\n"
     ]
    }
   ],
   "source": [
    "from pyod.models.cblof import CBLOF\n",
    "\n",
    "clf = CBLOF(random_state=rng)\n",
    "clf.fit(x_train)\n",
    "y_pred = clf.predict(x_test)\n",
    "y_pred = 1-y_pred\n",
    "print(recall_score(y_test, y_pred, average='macro'))\n",
    "print(f1_score(y_test, y_pred, average='macro'))"
   ]
  },
  {
   "cell_type": "code",
   "execution_count": 71,
   "metadata": {},
   "outputs": [
    {
     "name": "stdout",
     "output_type": "stream",
     "text": [
      "0.5109792590776363\n",
      "0.16103361834089233\n"
     ]
    }
   ],
   "source": [
    "from pyod.models.ocsvm import OCSVM\n",
    "\n",
    "clf = OCSVM()\n",
    "clf.fit(x_train)\n",
    "y_pred = clf.predict(x_test)\n",
    "y_pred = 1-y_pred\n",
    "print(recall_score(y_test, y_pred, average='macro'))\n",
    "print(f1_score(y_test, y_pred, average='macro'))"
   ]
  },
  {
   "cell_type": "code",
   "execution_count": 72,
   "metadata": {},
   "outputs": [
    {
     "name": "stderr",
     "output_type": "stream",
     "text": [
      "D:\\ANACONDA\\lib\\site-packages\\sklearn\\metrics\\_classification.py:1272: UndefinedMetricWarning: Recall is ill-defined and being set to 0.0 in labels with no true samples. Use `zero_division` parameter to control this behavior.\n",
      "  _warn_prf(average, modifier, msg_start, len(result))\n"
     ]
    },
    {
     "name": "stdout",
     "output_type": "stream",
     "text": [
      "0.3277310924369748\n",
      "0.04776484996938151\n"
     ]
    },
    {
     "ename": "NameError",
     "evalue": "name 'matthews_corrcoef' is not defined",
     "output_type": "error",
     "traceback": [
      "\u001b[1;31m---------------------------------------------------------------------------\u001b[0m",
      "\u001b[1;31mNameError\u001b[0m                                 Traceback (most recent call last)",
      "\u001b[1;32m<ipython-input-72-4eff4d56d95b>\u001b[0m in \u001b[0;36m<module>\u001b[1;34m\u001b[0m\n\u001b[0;32m      4\u001b[0m \u001b[0mprint\u001b[0m\u001b[1;33m(\u001b[0m\u001b[0mrecall_score\u001b[0m\u001b[1;33m(\u001b[0m\u001b[0my_test\u001b[0m\u001b[1;33m,\u001b[0m \u001b[0my_pred\u001b[0m\u001b[1;33m,\u001b[0m \u001b[0maverage\u001b[0m\u001b[1;33m=\u001b[0m\u001b[1;34m'macro'\u001b[0m\u001b[1;33m)\u001b[0m\u001b[1;33m)\u001b[0m\u001b[1;33m\u001b[0m\u001b[1;33m\u001b[0m\u001b[0m\n\u001b[0;32m      5\u001b[0m \u001b[0mprint\u001b[0m\u001b[1;33m(\u001b[0m\u001b[0mf1_score\u001b[0m\u001b[1;33m(\u001b[0m\u001b[0my_test\u001b[0m\u001b[1;33m,\u001b[0m \u001b[0my_pred\u001b[0m\u001b[1;33m,\u001b[0m \u001b[0maverage\u001b[0m\u001b[1;33m=\u001b[0m\u001b[1;34m'macro'\u001b[0m\u001b[1;33m)\u001b[0m\u001b[1;33m)\u001b[0m\u001b[1;33m\u001b[0m\u001b[1;33m\u001b[0m\u001b[0m\n\u001b[1;32m----> 6\u001b[1;33m \u001b[0mprint\u001b[0m\u001b[1;33m(\u001b[0m\u001b[0mmatthews_corrcoef\u001b[0m\u001b[1;33m(\u001b[0m\u001b[0my_test\u001b[0m\u001b[1;33m,\u001b[0m \u001b[0my_pred\u001b[0m\u001b[1;33m)\u001b[0m\u001b[1;33m)\u001b[0m\u001b[1;33m\u001b[0m\u001b[1;33m\u001b[0m\u001b[0m\n\u001b[0m",
      "\u001b[1;31mNameError\u001b[0m: name 'matthews_corrcoef' is not defined"
     ]
    }
   ],
   "source": [
    "clf = IsolationForest(max_samples=100, random_state=rng)\n",
    "clf.fit(x_train)\n",
    "y_pred = clf.predict(x_test)\n",
    "print(recall_score(y_test, y_pred, average='macro'))\n",
    "print(f1_score(y_test, y_pred, average='macro'))\n",
    "print(matthews_corrcoef(y_test, y_pred))"
   ]
  },
  {
   "cell_type": "code",
   "execution_count": 83,
   "metadata": {},
   "outputs": [],
   "source": [
    "np.savetxt('gan.txt', x)"
   ]
  },
  {
   "cell_type": "code",
   "execution_count": null,
   "metadata": {},
   "outputs": [],
   "source": []
  }
 ],
 "metadata": {
  "kernelspec": {
   "display_name": "Python 3",
   "language": "python",
   "name": "python3"
  },
  "language_info": {
   "codemirror_mode": {
    "name": "ipython",
    "version": 3
   },
   "file_extension": ".py",
   "mimetype": "text/x-python",
   "name": "python",
   "nbconvert_exporter": "python",
   "pygments_lexer": "ipython3",
   "version": "3.7.3"
  }
 },
 "nbformat": 4,
 "nbformat_minor": 2
}
